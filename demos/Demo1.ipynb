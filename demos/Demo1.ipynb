{
 "cells": [
  {
   "cell_type": "markdown",
   "id": "148ec889",
   "metadata": {},
   "source": [
    "# Demo 1: phase conservation of backwards propagation"
   ]
  },
  {
   "cell_type": "markdown",
   "id": "b53d4e2a",
   "metadata": {},
   "source": [
    "A demo to see if backwards propagation correctly calculates the initial phase of a point source.                     We generate three point sources, at phases of -3, 0 and 3 radians.\n",
    "These fields are propagated to a plane above the point sources and propagated backwards.                             Then, the mean phase of the field below is calculated and compared to the original phase value.                     Finally, the phase differences are plotted as function of original phase.                                "
   ]
  },
  {
   "cell_type": "code",
   "execution_count": 1,
   "id": "7149085c",
   "metadata": {},
   "outputs": [
    {
     "name": "stdout",
     "output_type": "stream",
     "text": [
      "\u001b[33;1m2025-07-09 15:36:39 - WARNING - System override set to True. \u001b[0m\n",
      "\u001b[32;20m2025-07-09 15:36:39 - INFO - Added plane source to system. \u001b[0m\n",
      "\u001b[32;20m2025-07-09 15:36:39 - INFO - Added plane plane_up to system. \u001b[0m\n",
      "\u001b[32;20m2025-07-09 15:36:39 - INFO - Added plane plane_down to system. \u001b[0m\n"
     ]
    },
    {
     "ename": "FileNotFoundError",
     "evalue": "Could not find module 'C:\\Users\\Paul Grimes\\miniforge\\envs\\PyPO\\Lib\\site-packages\\PyPO\\libpypobeam.dylib' (or one of its dependencies). Try using the full path with constructor syntax.",
     "output_type": "error",
     "traceback": [
      "\u001b[31m---------------------------------------------------------------------------\u001b[39m",
      "\u001b[31mFileNotFoundError\u001b[39m                         Traceback (most recent call last)",
      "\u001b[36mFile \u001b[39m\u001b[32mc:\\Users\\Paul Grimes\\miniforge\\envs\\PyPO\\Lib\\site-packages\\PyPO\\BindBeam.py:27\u001b[39m, in \u001b[36mloadBeamlib\u001b[39m\u001b[34m()\u001b[39m\n\u001b[32m     26\u001b[39m \u001b[38;5;28;01mtry\u001b[39;00m:\n\u001b[32m---> \u001b[39m\u001b[32m27\u001b[39m     lib = \u001b[43mctypes\u001b[49m\u001b[43m.\u001b[49m\u001b[43mCDLL\u001b[49m\u001b[43m(\u001b[49m\u001b[43mos\u001b[49m\u001b[43m.\u001b[49m\u001b[43mpath\u001b[49m\u001b[43m.\u001b[49m\u001b[43mjoin\u001b[49m\u001b[43m(\u001b[49m\u001b[43mpath_cur\u001b[49m\u001b[43m,\u001b[49m\u001b[43m \u001b[49m\u001b[33;43m\"\u001b[39;49m\u001b[33;43mlibpypobeam.dll\u001b[39;49m\u001b[33;43m\"\u001b[39;49m\u001b[43m)\u001b[49m\u001b[43m)\u001b[49m\n\u001b[32m     28\u001b[39m \u001b[38;5;28;01mexcept\u001b[39;00m:\n",
      "\u001b[36mFile \u001b[39m\u001b[32mc:\\Users\\Paul Grimes\\miniforge\\envs\\PyPO\\Lib\\ctypes\\__init__.py:390\u001b[39m, in \u001b[36mCDLL.__init__\u001b[39m\u001b[34m(self, name, mode, handle, use_errno, use_last_error, winmode)\u001b[39m\n\u001b[32m    389\u001b[39m \u001b[38;5;28;01mif\u001b[39;00m handle \u001b[38;5;129;01mis\u001b[39;00m \u001b[38;5;28;01mNone\u001b[39;00m:\n\u001b[32m--> \u001b[39m\u001b[32m390\u001b[39m     \u001b[38;5;28mself\u001b[39m._handle = \u001b[43m_dlopen\u001b[49m\u001b[43m(\u001b[49m\u001b[38;5;28;43mself\u001b[39;49m\u001b[43m.\u001b[49m\u001b[43m_name\u001b[49m\u001b[43m,\u001b[49m\u001b[43m \u001b[49m\u001b[43mmode\u001b[49m\u001b[43m)\u001b[49m\n\u001b[32m    391\u001b[39m \u001b[38;5;28;01melse\u001b[39;00m:\n",
      "\u001b[31mFileNotFoundError\u001b[39m: Could not find module 'C:\\Users\\Paul Grimes\\miniforge\\envs\\PyPO\\Lib\\site-packages\\PyPO\\libpypobeam.dll' (or one of its dependencies). Try using the full path with constructor syntax.",
      "\nDuring handling of the above exception, another exception occurred:\n",
      "\u001b[31mFileNotFoundError\u001b[39m                         Traceback (most recent call last)",
      "\u001b[36mFile \u001b[39m\u001b[32mc:\\Users\\Paul Grimes\\miniforge\\envs\\PyPO\\Lib\\site-packages\\PyPO\\BindBeam.py:30\u001b[39m, in \u001b[36mloadBeamlib\u001b[39m\u001b[34m()\u001b[39m\n\u001b[32m     29\u001b[39m \u001b[38;5;28;01mtry\u001b[39;00m:\n\u001b[32m---> \u001b[39m\u001b[32m30\u001b[39m     lib = \u001b[43mctypes\u001b[49m\u001b[43m.\u001b[49m\u001b[43mCDLL\u001b[49m\u001b[43m(\u001b[49m\u001b[43mos\u001b[49m\u001b[43m.\u001b[49m\u001b[43mpath\u001b[49m\u001b[43m.\u001b[49m\u001b[43mjoin\u001b[49m\u001b[43m(\u001b[49m\u001b[43mpath_cur\u001b[49m\u001b[43m,\u001b[49m\u001b[43m \u001b[49m\u001b[33;43m\"\u001b[39;49m\u001b[33;43mlibpypobeam.so\u001b[39;49m\u001b[33;43m\"\u001b[39;49m\u001b[43m)\u001b[49m\u001b[43m)\u001b[49m\n\u001b[32m     31\u001b[39m \u001b[38;5;28;01mexcept\u001b[39;00m:\n",
      "\u001b[36mFile \u001b[39m\u001b[32mc:\\Users\\Paul Grimes\\miniforge\\envs\\PyPO\\Lib\\ctypes\\__init__.py:390\u001b[39m, in \u001b[36mCDLL.__init__\u001b[39m\u001b[34m(self, name, mode, handle, use_errno, use_last_error, winmode)\u001b[39m\n\u001b[32m    389\u001b[39m \u001b[38;5;28;01mif\u001b[39;00m handle \u001b[38;5;129;01mis\u001b[39;00m \u001b[38;5;28;01mNone\u001b[39;00m:\n\u001b[32m--> \u001b[39m\u001b[32m390\u001b[39m     \u001b[38;5;28mself\u001b[39m._handle = \u001b[43m_dlopen\u001b[49m\u001b[43m(\u001b[49m\u001b[38;5;28;43mself\u001b[39;49m\u001b[43m.\u001b[49m\u001b[43m_name\u001b[49m\u001b[43m,\u001b[49m\u001b[43m \u001b[49m\u001b[43mmode\u001b[49m\u001b[43m)\u001b[49m\n\u001b[32m    391\u001b[39m \u001b[38;5;28;01melse\u001b[39;00m:\n",
      "\u001b[31mFileNotFoundError\u001b[39m: Could not find module 'C:\\Users\\Paul Grimes\\miniforge\\envs\\PyPO\\Lib\\site-packages\\PyPO\\libpypobeam.so' (or one of its dependencies). Try using the full path with constructor syntax.",
      "\nDuring handling of the above exception, another exception occurred:\n",
      "\u001b[31mFileNotFoundError\u001b[39m                         Traceback (most recent call last)",
      "\u001b[36mCell\u001b[39m\u001b[36m \u001b[39m\u001b[32mIn[1]\u001b[39m\u001b[32m, line 55\u001b[39m\n\u001b[32m     46\u001b[39m \u001b[38;5;28;01mfor\u001b[39;00m ph \u001b[38;5;129;01min\u001b[39;00m phases:\n\u001b[32m     47\u001b[39m     PSDict = {\n\u001b[32m     48\u001b[39m             \u001b[33m\"\u001b[39m\u001b[33mname\u001b[39m\u001b[33m\"\u001b[39m      : \u001b[33m\"\u001b[39m\u001b[33mPS_source\u001b[39m\u001b[33m\"\u001b[39m,\n\u001b[32m     49\u001b[39m             \u001b[33m\"\u001b[39m\u001b[33mlam\u001b[39m\u001b[33m\"\u001b[39m       : \u001b[32m1\u001b[39m,\n\u001b[32m   (...)\u001b[39m\u001b[32m     52\u001b[39m             \u001b[33m\"\u001b[39m\u001b[33mpol\u001b[39m\u001b[33m\"\u001b[39m       : np.array([\u001b[32m1\u001b[39m,\u001b[32m0\u001b[39m,\u001b[32m0\u001b[39m])\n\u001b[32m     53\u001b[39m             }\n\u001b[32m---> \u001b[39m\u001b[32m55\u001b[39m     \u001b[43ms\u001b[49m\u001b[43m.\u001b[49m\u001b[43mcreatePointSource\u001b[49m\u001b[43m(\u001b[49m\u001b[43mPSDict\u001b[49m\u001b[43m,\u001b[49m\u001b[43m \u001b[49m\u001b[33;43m\"\u001b[39;49m\u001b[33;43msource\u001b[39;49m\u001b[33;43m\"\u001b[39;49m\u001b[43m)\u001b[49m\n\u001b[32m     57\u001b[39m     s.translateGrids(\u001b[33m\"\u001b[39m\u001b[33mplane_up\u001b[39m\u001b[33m\"\u001b[39m, np.array([\u001b[32m0\u001b[39m, \u001b[32m0\u001b[39m, \u001b[32m100\u001b[39m]))\n\u001b[32m     59\u001b[39m     runPODict = {\n\u001b[32m     60\u001b[39m             \u001b[33m\"\u001b[39m\u001b[33mt_name\u001b[39m\u001b[33m\"\u001b[39m    : \u001b[33m\"\u001b[39m\u001b[33mplane_up\u001b[39m\u001b[33m\"\u001b[39m,\n\u001b[32m     61\u001b[39m             \u001b[33m\"\u001b[39m\u001b[33ms_current\u001b[39m\u001b[33m\"\u001b[39m : \u001b[33m\"\u001b[39m\u001b[33mPS_source\u001b[39m\u001b[33m\"\u001b[39m,\n\u001b[32m   (...)\u001b[39m\u001b[32m     66\u001b[39m             \u001b[33m\"\u001b[39m\u001b[33mname_EH\u001b[39m\u001b[33m\"\u001b[39m   : \u001b[33m\"\u001b[39m\u001b[33mEH_up\u001b[39m\u001b[33m\"\u001b[39m,\n\u001b[32m     67\u001b[39m             }\n",
      "\u001b[36mFile \u001b[39m\u001b[32mc:\\Users\\Paul Grimes\\miniforge\\envs\\PyPO\\Lib\\site-packages\\PyPO\\System.py:2020\u001b[39m, in \u001b[36mSystem.createPointSource\u001b[39m\u001b[34m(self, PSDict, name_surface)\u001b[39m\n\u001b[32m   2018\u001b[39m field = PTypes.fields(Ex, Ey, Ez, Hx, Hy, Hz) \n\u001b[32m   2019\u001b[39m \u001b[38;5;66;03m#current = self.calcCurrents(name_surface, field)\u001b[39;00m\n\u001b[32m-> \u001b[39m\u001b[32m2020\u001b[39m current = \u001b[43mBBeam\u001b[49m\u001b[43m.\u001b[49m\u001b[43mcalcCurrents\u001b[49m\u001b[43m(\u001b[49m\u001b[43mfield\u001b[49m\u001b[43m,\u001b[49m\u001b[43m \u001b[49m\u001b[38;5;28;43mself\u001b[39;49m\u001b[43m.\u001b[49m\u001b[43msystem\u001b[49m\u001b[43m[\u001b[49m\u001b[43mname_surface\u001b[49m\u001b[43m]\u001b[49m\u001b[43m,\u001b[49m\u001b[43m \u001b[49m\u001b[43mmode\u001b[49m\u001b[43m)\u001b[49m\n\u001b[32m   2021\u001b[39m k =  \u001b[32m2\u001b[39m * np.pi / _PSDict[\u001b[33m\"\u001b[39m\u001b[33mlam\u001b[39m\u001b[33m\"\u001b[39m]\n\u001b[32m   2023\u001b[39m field.setMeta(name_surface, k)\n",
      "\u001b[36mFile \u001b[39m\u001b[32mc:\\Users\\Paul Grimes\\miniforge\\envs\\PyPO\\Lib\\site-packages\\PyPO\\BindBeam.py:204\u001b[39m, in \u001b[36mcalcCurrents\u001b[39m\u001b[34m(fields, source, mode)\u001b[39m\n\u001b[32m    190\u001b[39m \u001b[38;5;28;01mdef\u001b[39;00m\u001b[38;5;250m \u001b[39m\u001b[34mcalcCurrents\u001b[39m(fields, source, mode):\n\u001b[32m    191\u001b[39m \u001b[38;5;250m    \u001b[39m\u001b[33;03m\"\"\"!\u001b[39;00m\n\u001b[32m    192\u001b[39m \u001b[33;03m    Calculate electromagnetic currents from electromagnetic field.\u001b[39;00m\n\u001b[32m    193\u001b[39m \n\u001b[32m   (...)\u001b[39m\u001b[32m    201\u001b[39m \u001b[33;03m    @see currents\u001b[39;00m\n\u001b[32m    202\u001b[39m \u001b[33;03m    \"\"\"\u001b[39;00m\n\u001b[32m--> \u001b[39m\u001b[32m204\u001b[39m     lib = \u001b[43mloadBeamlib\u001b[49m\u001b[43m(\u001b[49m\u001b[43m)\u001b[49m\n\u001b[32m    205\u001b[39m     source_shape = (source[\u001b[33m\"\u001b[39m\u001b[33mgridsize\u001b[39m\u001b[33m\"\u001b[39m][\u001b[32m0\u001b[39m], source[\u001b[33m\"\u001b[39m\u001b[33mgridsize\u001b[39m\u001b[33m\"\u001b[39m][\u001b[32m1\u001b[39m])\n\u001b[32m    206\u001b[39m     source_size = source[\u001b[33m\"\u001b[39m\u001b[33mgridsize\u001b[39m\u001b[33m\"\u001b[39m][\u001b[32m0\u001b[39m] * source[\u001b[33m\"\u001b[39m\u001b[33mgridsize\u001b[39m\u001b[33m\"\u001b[39m][\u001b[32m1\u001b[39m]\n",
      "\u001b[36mFile \u001b[39m\u001b[32mc:\\Users\\Paul Grimes\\miniforge\\envs\\PyPO\\Lib\\site-packages\\PyPO\\BindBeam.py:32\u001b[39m, in \u001b[36mloadBeamlib\u001b[39m\u001b[34m()\u001b[39m\n\u001b[32m     30\u001b[39m         lib = ctypes.CDLL(os.path.join(path_cur, \u001b[33m\"\u001b[39m\u001b[33mlibpypobeam.so\u001b[39m\u001b[33m\"\u001b[39m))\n\u001b[32m     31\u001b[39m     \u001b[38;5;28;01mexcept\u001b[39;00m:\n\u001b[32m---> \u001b[39m\u001b[32m32\u001b[39m         lib = \u001b[43mctypes\u001b[49m\u001b[43m.\u001b[49m\u001b[43mCDLL\u001b[49m\u001b[43m(\u001b[49m\u001b[43mos\u001b[49m\u001b[43m.\u001b[49m\u001b[43mpath\u001b[49m\u001b[43m.\u001b[49m\u001b[43mjoin\u001b[49m\u001b[43m(\u001b[49m\u001b[43mpath_cur\u001b[49m\u001b[43m,\u001b[49m\u001b[43m \u001b[49m\u001b[33;43m\"\u001b[39;49m\u001b[33;43mlibpypobeam.dylib\u001b[39;49m\u001b[33;43m\"\u001b[39;49m\u001b[43m)\u001b[49m\u001b[43m)\u001b[49m\n\u001b[32m     34\u001b[39m lib.makeRTframe.argtypes = [PStructs.RTDict, ctypes.POINTER(PStructs.cframe)]\n\u001b[32m     35\u001b[39m lib.makeRTframe.restype = \u001b[38;5;28;01mNone\u001b[39;00m\n",
      "\u001b[36mFile \u001b[39m\u001b[32mc:\\Users\\Paul Grimes\\miniforge\\envs\\PyPO\\Lib\\ctypes\\__init__.py:390\u001b[39m, in \u001b[36mCDLL.__init__\u001b[39m\u001b[34m(self, name, mode, handle, use_errno, use_last_error, winmode)\u001b[39m\n\u001b[32m    387\u001b[39m \u001b[38;5;28mself\u001b[39m._FuncPtr = _FuncPtr\n\u001b[32m    389\u001b[39m \u001b[38;5;28;01mif\u001b[39;00m handle \u001b[38;5;129;01mis\u001b[39;00m \u001b[38;5;28;01mNone\u001b[39;00m:\n\u001b[32m--> \u001b[39m\u001b[32m390\u001b[39m     \u001b[38;5;28mself\u001b[39m._handle = \u001b[43m_dlopen\u001b[49m\u001b[43m(\u001b[49m\u001b[38;5;28;43mself\u001b[39;49m\u001b[43m.\u001b[49m\u001b[43m_name\u001b[49m\u001b[43m,\u001b[49m\u001b[43m \u001b[49m\u001b[43mmode\u001b[49m\u001b[43m)\u001b[49m\n\u001b[32m    391\u001b[39m \u001b[38;5;28;01melse\u001b[39;00m:\n\u001b[32m    392\u001b[39m     \u001b[38;5;28mself\u001b[39m._handle = handle\n",
      "\u001b[31mFileNotFoundError\u001b[39m: Could not find module 'C:\\Users\\Paul Grimes\\miniforge\\envs\\PyPO\\Lib\\site-packages\\PyPO\\libpypobeam.dylib' (or one of its dependencies). Try using the full path with constructor syntax."
     ]
    }
   ],
   "source": [
    "%matplotlib notebook\n",
    "\n",
    "import matplotlib.pyplot as pt\n",
    "\n",
    "import numpy as np\n",
    "from pathlib import Path\n",
    "\n",
    "from PyPO.System import System\n",
    "\n",
    "\n",
    "s = System()\n",
    "\n",
    "D = 100 # Distance between point source and upper screen.\n",
    "    \n",
    "source = {\n",
    "        \"name\"      : \"source\",\n",
    "        \"gmode\"     : \"xy\",\n",
    "        \"lims_x\"    : np.array([-0.01, 0.01]),\n",
    "        \"lims_y\"    : np.array([-0.01, 0.01]),\n",
    "        \"gridsize\"  : np.array([31, 31])\n",
    "        }\n",
    "\n",
    "plane_up = {\n",
    "        \"name\"      : \"plane_up\",\n",
    "        \"gmode\"     : \"uv\",\n",
    "        \"lims_u\"    : np.array([0, 100]),\n",
    "        \"lims_v\"    : np.array([0, 360]),\n",
    "        \"gridsize\"  : np.array([101, 101]),\n",
    "        \"flip\"      : True\n",
    "        }\n",
    "\n",
    "plane_down = {\n",
    "        \"name\"      : \"plane_down\",\n",
    "        \"gmode\"     : \"uv\",\n",
    "        \"lims_u\"    : np.array([0, 0.1]),\n",
    "        \"lims_v\"    : np.array([0, 360]),\n",
    "        \"gridsize\"  : np.array([101, 101])\n",
    "        }\n",
    "\n",
    "s.addPlane(source)\n",
    "s.addPlane(plane_up)\n",
    "s.addPlane(plane_down)\n",
    "\n",
    "ph_diff = []\n",
    "phases = np.linspace(-3, 3, 3)\n",
    "for ph in phases:\n",
    "    PSDict = {\n",
    "            \"name\"      : \"PS_source\",\n",
    "            \"lam\"       : 1,\n",
    "            \"E0\"        : 1,\n",
    "            \"phase\"     : ph,\n",
    "            \"pol\"       : np.array([1,0,0])\n",
    "            }\n",
    "\n",
    "    s.createPointSource(PSDict, \"source\")\n",
    "\n",
    "    s.translateGrids(\"plane_up\", np.array([0, 0, 100]))\n",
    "\n",
    "    runPODict = {\n",
    "            \"t_name\"    : \"plane_up\",\n",
    "            \"s_current\" : \"PS_source\",\n",
    "            \"epsilon\"   : 10,\n",
    "            \"exp\"       : \"fwd\",\n",
    "            \"mode\"      : \"JMEH\",\n",
    "            \"name_JM\"   : \"JM_up\",\n",
    "            \"name_EH\"   : \"EH_up\",\n",
    "            }\n",
    "\n",
    "    runPODict_bwd = {\n",
    "            \"t_name\"    : \"plane_down\",\n",
    "            \"s_current\" : \"JM_up\",\n",
    "            \"epsilon\"   : 10,\n",
    "            \"exp\"       : \"bwd\",\n",
    "            \"mode\"      : \"JMEH\",\n",
    "            \"name_JM\"   : \"JM_down\",\n",
    "            \"name_EH\"   : \"EH_down\",\n",
    "            }\n",
    "\n",
    "    s.runPO(runPODict)\n",
    "    s.runPO(runPODict_bwd)\n",
    "\n",
    "    # The mean phase is simply calculated as the means of the phase over the surface.\n",
    "    phase_Ex = np.mean(np.angle(s.fields[\"EH_down\"].Ex))\n",
    "    ph_diff.append(ph - phase_Ex)\n",
    "\n",
    "fig, ax = pt.subplots(1,1, figsize=(5,5))\n",
    "ax.scatter(phases, ph_diff)\n",
    "ax.set_xlabel(r\"$\\phi_0$ / radians\")\n",
    "ax.set_ylabel(r\"$\\Delta \\phi$ / radians\")\n",
    "pt.show()"
   ]
  },
  {
   "cell_type": "markdown",
   "id": "d416c41d",
   "metadata": {},
   "source": [
    "In the image above, $\\phi_0$ represents the initial phase and $\\Delta \\phi = \\phi_0 - \\phi_\\mathrm{bw}$ the phase difference between the initial phase and mean backwards propagated phase. It can be seen that the difference is small for all $\\phi_0$."
   ]
  },
  {
   "cell_type": "code",
   "execution_count": null,
   "id": "e94c9d83",
   "metadata": {},
   "outputs": [],
   "source": []
  }
 ],
 "metadata": {
  "kernelspec": {
   "display_name": "PyPO",
   "language": "python",
   "name": "python3"
  },
  "language_info": {
   "codemirror_mode": {
    "name": "ipython",
    "version": 3
   },
   "file_extension": ".py",
   "mimetype": "text/x-python",
   "name": "python",
   "nbconvert_exporter": "python",
   "pygments_lexer": "ipython3",
   "version": "3.13.5"
  }
 },
 "nbformat": 4,
 "nbformat_minor": 5
}
