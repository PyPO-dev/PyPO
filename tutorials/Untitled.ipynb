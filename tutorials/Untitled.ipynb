{
 "cells": [
  {
   "cell_type": "markdown",
   "id": "e73e6dec-8516-485d-83ef-4601418de368",
   "metadata": {},
   "source": [
    "# Tutorial 8: adding uncorrelated surface errors to a surface\n",
    "In this tutorial, we will have a look at adding uncorrelated surface errors to a surface.\n",
    "\n",
    "The surface errors, or surface roughness, we discuss here is uncorrelated, i.e., random. We explore this by first looking at some simple examples. Then, we quantify further by comparing to the classic Ruze efficiency."
   ]
  },
  {
   "cell_type": "code",
   "execution_count": 13,
   "id": "7c158f12-d2e2-4be9-89f3-00974f632eae",
   "metadata": {},
   "outputs": [
    {
     "name": "stdout",
     "output_type": "stream",
     "text": [
      "\u001b[33;1m2025-10-10 17:44:30 - WARNING - System override set to True. \u001b[0m\n",
      "\u001b[32;20m2025-10-10 17:44:30 - INFO - Added plane plane_uv to system. \u001b[0m\n",
      "\u001b[32;20m2025-10-10 17:44:30 - INFO - Added plane plane_xy to system. \u001b[0m\n"
     ]
    },
    {
     "data": {
      "image/png": "[encoded data removed]",
      "text/plain": [
       "<Figure size 640x480 with 2 Axes>"
      ]
     },
     "metadata": {},
     "output_type": "display_data"
    }
   ],
   "source": [
    "#%matplotlib notebook # Uncomment for interactive plots when running the notebook!\n",
    "\n",
    "import numpy as np\n",
    "import matplotlib.pyplot as plt\n",
    "\n",
    "from PyPO.System import System\n",
    "from PyPO.Enums import FieldComponents, Units\n",
    "\n",
    "SEED = 42\n",
    "\n",
    "s = System()\n",
    "\n",
    "plane_uv = {\n",
    "            \"name\"      : \"plane_uv\",\n",
    "            \"gmode\"     : \"uv\",\n",
    "            \"lims_u\"    : np.array([0, 10]),\n",
    "            \"lims_v\"    : np.array([0, 360]),\n",
    "            \"gridsize\"  : np.array([101, 100]),\n",
    "            \"rms\"       : 42e-3,\n",
    "            \"rms_seed\"  : SEED\n",
    "            }\n",
    "\n",
    "plane_xy = {\n",
    "            \"name\"      : \"plane_xy\",\n",
    "            \"gmode\"     : \"xy\",\n",
    "            \"lims_x\"    : np.array([-10, 10]),\n",
    "            \"lims_y\"    : np.array([-10, 10]),\n",
    "            \"gridsize\"  : np.array([101, 101]),\n",
    "            \"rms\"       : 42e-3,\n",
    "            \"rms_seed\"  : SEED\n",
    "            }\n",
    "\n",
    "s.addPlane(plane_uv)\n",
    "s.addPlane(plane_xy)\n",
    "\n",
    "#s.plot3D(\"plane_xy\")\n",
    "#s.plot3D(\"plane_uv\")\n",
    "\n",
    "grids_xy = s.generateGrids(\"plane_xy\")\n",
    "grids_uv = s.generateGrids(\"plane_uv\")\n",
    "\n",
    "fig, ax = plt.subplots(1,2)\n",
    "ax[0].hist(grids_xy.z.ravel(), bins=100)\n",
    "ax[1].hist(grids_uv.z.ravel(), bins=100)\n",
    "plt.show()"
   ]
  },
  {
   "cell_type": "code",
   "execution_count": null,
   "id": "57be9339-ba7b-44a2-8c3e-2a457eba11b4",
   "metadata": {},
   "outputs": [],
   "source": []
  }
 ],
 "metadata": {
  "kernelspec": {
   "display_name": "Python 3 (ipykernel)",
   "language": "python",
   "name": "python3"
  },
  "language_info": {
   "codemirror_mode": {
    "name": "ipython",
    "version": 3
   },
   "file_extension": ".py",
   "mimetype": "text/x-python",
   "name": "python",
   "nbconvert_exporter": "python",
   "pygments_lexer": "ipython3",
   "version": "3.11.2"
  }
 },
 "nbformat": 4,
 "nbformat_minor": 5
}
