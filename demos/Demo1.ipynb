{
 "cells": [
  {
   "cell_type": "markdown",
   "id": "148ec889",
   "metadata": {},
   "source": [
    "# Demo 1: phase conservation of backwards propagation"
   ]
  },
  {
   "cell_type": "markdown",
   "id": "b53d4e2a",
   "metadata": {},
   "source": [
    "A demo to see if backwards propagation correctly calculates the initial phase of a point source.                     We generate three point sources, at phases of -3, 0 and 3 radians.\n",
    "These fields are propagated to a plane above the point sources and propagated backwards.                             Then, the mean phase of the field below is calculated and compared to the original phase value.                     Finally, the phase differences are plotted as function of original phase.                                "
   ]
  },
  {
   "cell_type": "code",
   "execution_count": 2,
   "id": "7149085c",
   "metadata": {},
   "outputs": [
    {
     "name": "stdout",
     "output_type": "stream",
     "text": [
      "\u001b[33;1m2025-08-28 14:24:09 - WARNING - System override set to True. \u001b[0m\n",
      "\u001b[32;20m2025-08-28 14:24:09 - INFO - Added plane source to system. \u001b[0m\n",
      "\u001b[32;20m2025-08-28 14:24:09 - INFO - Added plane plane_up to system. \u001b[0m\n",
      "\u001b[32;20m2025-08-28 14:24:09 - INFO - Added plane plane_down to system. \u001b[0m\n"
     ]
    },
    {
     "name": "stdout",
     "output_type": "stream",
     "text": [
      "\u001b[32;20m2025-08-28 14:24:09 - INFO - Translated element plane_up by ('0.000e+00', '0.000e+00', '1.000e+02') millimeters. \u001b[0m\n",
      "\u001b[34;1m2025-08-28 14:24:09 - WORK - *** Starting PO propagation *** \u001b[0m\n",
      "\u001b[34;1m2025-08-28 14:24:09 - WORK - Propagating PS_source on source to plane_up, propagation mode: JMEH. \u001b[0m\n",
      "\u001b[34;1m2025-08-28 14:24:09 - WORK - Hardware: running 256 CUDA threads per block. \u001b[0m\n",
      "\u001b[34;1m2025-08-28 14:24:09 - WORK - ... Calculating ... \u001b[0m\n",
      "\u001b[34;1m2025-08-28 14:24:10 - WORK - *** Finished: 0.129 seconds *** \u001b[0m\n",
      "\u001b[34;1m2025-08-28 14:24:10 - WORK - *** Starting PO propagation *** \u001b[0m\n",
      "\u001b[34;1m2025-08-28 14:24:10 - WORK - Propagating JM_up on plane_up to plane_down, propagation mode: JMEH. \u001b[0m\n",
      "\u001b[34;1m2025-08-28 14:24:10 - WORK - Hardware: running 256 CUDA threads per block. \u001b[0m\n",
      "\u001b[34;1m2025-08-28 14:24:10 - WORK - ... Calculating ... \u001b[0m\n",
      "\u001b[34;1m2025-08-28 14:24:10 - WORK - *** Finished: 0.131 seconds *** \u001b[0m\n",
      "\u001b[32;20m2025-08-28 14:24:10 - INFO - Translated element plane_up by ('0.000e+00', '0.000e+00', '1.000e+02') millimeters. \u001b[0m\n",
      "\u001b[34;1m2025-08-28 14:24:10 - WORK - *** Starting PO propagation *** \u001b[0m\n",
      "\u001b[34;1m2025-08-28 14:24:10 - WORK - Propagating PS_source on source to plane_up, propagation mode: JMEH. \u001b[0m\n",
      "\u001b[34;1m2025-08-28 14:24:10 - WORK - Hardware: running 256 CUDA threads per block. \u001b[0m\n",
      "\u001b[34;1m2025-08-28 14:24:10 - WORK - ... Calculating ... \u001b[0m\n",
      "\u001b[34;1m2025-08-28 14:24:10 - WORK - *** Finished: 0.081 seconds *** \u001b[0m\n",
      "\u001b[34;1m2025-08-28 14:24:10 - WORK - *** Starting PO propagation *** \u001b[0m\n",
      "\u001b[34;1m2025-08-28 14:24:10 - WORK - Propagating JM_up on plane_up to plane_down, propagation mode: JMEH. \u001b[0m\n",
      "\u001b[34;1m2025-08-28 14:24:10 - WORK - Hardware: running 256 CUDA threads per block. \u001b[0m\n",
      "\u001b[34;1m2025-08-28 14:24:10 - WORK - ... Calculating ... \u001b[0m\n",
      "\u001b[34;1m2025-08-28 14:24:10 - WORK - *** Finished: 0.117 seconds *** \u001b[0m\n",
      "\u001b[32;20m2025-08-28 14:24:10 - INFO - Translated element plane_up by ('0.000e+00', '0.000e+00', '1.000e+02') millimeters. \u001b[0m\n",
      "\u001b[34;1m2025-08-28 14:24:10 - WORK - *** Starting PO propagation *** \u001b[0m\n",
      "\u001b[34;1m2025-08-28 14:24:10 - WORK - Propagating PS_source on source to plane_up, propagation mode: JMEH. \u001b[0m\n",
      "\u001b[34;1m2025-08-28 14:24:10 - WORK - Hardware: running 256 CUDA threads per block. \u001b[0m\n",
      "\u001b[34;1m2025-08-28 14:24:10 - WORK - ... Calculating ... \u001b[0m\n",
      "\u001b[34;1m2025-08-28 14:24:10 - WORK - *** Finished: 0.106 seconds *** \u001b[0m\n",
      "\u001b[34;1m2025-08-28 14:24:10 - WORK - *** Starting PO propagation *** \u001b[0m\n",
      "\u001b[34;1m2025-08-28 14:24:10 - WORK - Propagating JM_up on plane_up to plane_down, propagation mode: JMEH. \u001b[0m\n",
      "\u001b[34;1m2025-08-28 14:24:10 - WORK - Hardware: running 256 CUDA threads per block. \u001b[0m\n",
      "\u001b[34;1m2025-08-28 14:24:10 - WORK - ... Calculating ... \u001b[0m\n",
      "\u001b[34;1m2025-08-28 14:24:10 - WORK - *** Finished: 0.120 seconds *** \u001b[0m\n"
     ]
    },
    {
     "data": {
      "application/vnd.jupyter.widget-view+json": {
       "model_id": "a7e4107763fb4e1f805d4b2b3413e188",
       "version_major": 2,
       "version_minor": 0
      },
      "image/png": "[encoded data removed]",
      "text/html": [
       "\n",
       "            <div style=\"display: inline-block;\">\n",
       "                <div class=\"jupyter-widgets widget-label\" style=\"text-align: center;\">\n",
       "                    Figure\n",
       "                </div>\n",
       "                <img src='data:image/png;base64,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' width=500.0/>\n",
       "            </div>\n",
       "        "
      ],
      "text/plain": [
       "Canvas(toolbar=Toolbar(toolitems=[('Home', 'Reset original view', 'home', 'home'), ('Back', 'Back to previous …"
      ]
     },
     "metadata": {},
     "output_type": "display_data"
    }
   ],
   "source": [
    "%matplotlib widget\n",
    "\n",
    "import matplotlib.pyplot as pt\n",
    "\n",
    "import numpy as np\n",
    "from pathlib import Path\n",
    "\n",
    "from PyPO.System import System\n",
    "\n",
    "\n",
    "s = System()\n",
    "\n",
    "D = 100 # Distance between point source and upper screen.\n",
    "    \n",
    "source = {\n",
    "        \"name\"      : \"source\",\n",
    "        \"gmode\"     : \"xy\",\n",
    "        \"lims_x\"    : np.array([-0.01, 0.01]),\n",
    "        \"lims_y\"    : np.array([-0.01, 0.01]),\n",
    "        \"gridsize\"  : np.array([31, 31])\n",
    "        }\n",
    "\n",
    "plane_up = {\n",
    "        \"name\"      : \"plane_up\",\n",
    "        \"gmode\"     : \"uv\",\n",
    "        \"lims_u\"    : np.array([0, 100]),\n",
    "        \"lims_v\"    : np.array([0, 360]),\n",
    "        \"gridsize\"  : np.array([101, 100]),\n",
    "        \"flip\"      : True\n",
    "        }\n",
    "\n",
    "plane_down = {\n",
    "        \"name\"      : \"plane_down\",\n",
    "        \"gmode\"     : \"uv\",\n",
    "        \"lims_u\"    : np.array([0, 0.1]),\n",
    "        \"lims_v\"    : np.array([0, 360]),\n",
    "        \"gridsize\"  : np.array([101, 100])\n",
    "        }\n",
    "\n",
    "s.addPlane(source)\n",
    "s.addPlane(plane_up)\n",
    "s.addPlane(plane_down)\n",
    "\n",
    "ph_diff = []\n",
    "phases = np.linspace(-3, 3, 3)\n",
    "for ph in phases:\n",
    "    PSDict = {\n",
    "            \"name\"      : \"PS_source\",\n",
    "            \"lam\"       : 1,\n",
    "            \"E0\"        : 1,\n",
    "            \"phase\"     : ph,\n",
    "            \"pol\"       : np.array([1,0,0])\n",
    "            }\n",
    "\n",
    "    s.createPointSource(PSDict, \"source\")\n",
    "\n",
    "    s.translateGrids(\"plane_up\", np.array([0, 0, 100]))\n",
    "\n",
    "    runPODict = {\n",
    "            \"t_name\"    : \"plane_up\",\n",
    "            \"s_current\" : \"PS_source\",\n",
    "            \"epsilon\"   : 10,\n",
    "            \"exp\"       : \"fwd\",\n",
    "            \"mode\"      : \"JMEH\",\n",
    "            \"name_JM\"   : \"JM_up\",\n",
    "            \"name_EH\"   : \"EH_up\",\n",
    "            }\n",
    "\n",
    "    runPODict_bwd = {\n",
    "            \"t_name\"    : \"plane_down\",\n",
    "            \"s_current\" : \"JM_up\",\n",
    "            \"epsilon\"   : 10,\n",
    "            \"exp\"       : \"bwd\",\n",
    "            \"mode\"      : \"JMEH\",\n",
    "            \"name_JM\"   : \"JM_down\",\n",
    "            \"name_EH\"   : \"EH_down\",\n",
    "            }\n",
    "\n",
    "    s.runPO(runPODict)\n",
    "    s.runPO(runPODict_bwd)\n",
    "\n",
    "    # The mean phase is simply calculated as the means of the phase over the surface.\n",
    "    phase_Ex = np.mean(np.angle(s.fields[\"EH_down\"].Ex))\n",
    "    ph_diff.append(ph - phase_Ex)\n",
    "\n",
    "fig, ax = pt.subplots(1,1, figsize=(5,5))\n",
    "ax.scatter(phases, ph_diff)\n",
    "ax.set_xlabel(r\"$\\phi_0$ / radians\")\n",
    "ax.set_ylabel(r\"$\\Delta \\phi$ / radians\")\n",
    "pt.show()"
   ]
  },
  {
   "cell_type": "markdown",
   "id": "d416c41d",
   "metadata": {},
   "source": [
    "In the image above, $\\phi_0$ represents the initial phase and $\\Delta \\phi = \\phi_0 - \\phi_\\mathrm{bw}$ the phase difference between the initial phase and mean backwards propagated phase. It can be seen that the difference is small for all $\\phi_0$."
   ]
  },
  {
   "cell_type": "markdown",
   "id": "9848c19f",
   "metadata": {},
   "source": []
  },
  {
   "cell_type": "code",
   "execution_count": null,
   "id": "e94c9d83",
   "metadata": {},
   "outputs": [],
   "source": []
  }
 ],
 "metadata": {
  "kernelspec": {
   "display_name": "PyPO",
   "language": "python",
   "name": "python3"
  },
  "language_info": {
   "codemirror_mode": {
    "name": "ipython",
    "version": 3
   },
   "file_extension": ".py",
   "mimetype": "text/x-python",
   "name": "python",
   "nbconvert_exporter": "python",
   "pygments_lexer": "ipython3",
   "version": "3.13.5"
  }
 },
 "nbformat": 4,
 "nbformat_minor": 5
}
